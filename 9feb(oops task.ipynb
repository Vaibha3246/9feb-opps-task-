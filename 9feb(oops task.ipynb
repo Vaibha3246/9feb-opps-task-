{
 "cells": [
  {
   "cell_type": "markdown",
   "id": "8421cc7b-bbb4-4923-87b6-9a84a4c4848c",
   "metadata": {},
   "source": [
    "# Q1, Create a vehicle class with an init method having instance variables as name_of_vehicle, max_speed\n",
    "# and average_of_vehicle."
   ]
  },
  {
   "cell_type": "code",
   "execution_count": 41,
   "id": "30669651-93d9-4f5c-ba88-005050b07436",
   "metadata": {},
   "outputs": [],
   "source": [
    "class vehicle:\n",
    "    def __init__(self , name_of_vehicle, max_speed, average_of_vehicle):\n",
    "        self.name_of_vehicle=name_of_vehicle\n",
    "        self.max_speed=max_speed=max_speed\n",
    "        self.average_of_speed=average_of_vehicle"
   ]
  },
  {
   "cell_type": "code",
   "execution_count": 42,
   "id": "a70d9c63-1070-4d4d-9a81-ac3451a36c77",
   "metadata": {},
   "outputs": [],
   "source": [
    "obj=vehicle('car' , 350, 15)"
   ]
  },
  {
   "cell_type": "code",
   "execution_count": 43,
   "id": "6cf6a02a-7757-4b0d-b04a-67616c91c27b",
   "metadata": {},
   "outputs": [
    {
     "data": {
      "text/plain": [
       "15"
      ]
     },
     "execution_count": 43,
     "metadata": {},
     "output_type": "execute_result"
    }
   ],
   "source": [
    "obj.average_of_speed"
   ]
  },
  {
   "cell_type": "code",
   "execution_count": null,
   "id": "e8fe63ec-01cb-4d54-9f4b-331b4063ed54",
   "metadata": {},
   "outputs": [],
   "source": [
    "print(obj.max_speed)\n"
   ]
  },
  {
   "cell_type": "code",
   "execution_count": null,
   "id": "8430255d-321b-4563-9478-8aacbc3671d5",
   "metadata": {},
   "outputs": [],
   "source": []
  },
  {
   "cell_type": "markdown",
   "id": "c5611951-b3a6-4271-ae63-3ed0765bdc2a",
   "metadata": {},
   "source": [
    "# Q2. Create a child class car from the vehicle class created in Que 1, which will inherit the vehicle class.\n",
    "# Create a method named seating_capacity which takes capacity as an argument and returns the name of\n",
    "# the vehicle and its seating capacity."
   ]
  },
  {
   "cell_type": "code",
   "execution_count": 64,
   "id": "02d23aba-4df3-439b-a8ba-6d54b1833398",
   "metadata": {},
   "outputs": [
    {
     "name": "stdout",
     "output_type": "stream",
     "text": [
      "Car has a seating capacity of 5 people.\n"
     ]
    }
   ],
   "source": [
    "\n",
    "class Vehicle:\n",
    "    def __init__(self, name_of_vehicle, max_speed, average_of_vehicle):\n",
    "        self.name_of_vehicle = name_of_vehicle\n",
    "        self.max_speed = max_speed\n",
    "        self.average_of_vehicle = average_of_vehicle\n",
    "\n",
    "class Car(Vehicle):  # Car inherits from Vehicle\n",
    "    def seating_capacity(self, capacity):\n",
    "        return f\"{self.name_of_vehicle} has a seating capacity of {capacity} people.\"\n",
    "\n",
    "# Example usage:\n",
    "car_instance = Car(name_of_vehicle=\"Car\", max_speed=200, average_of_vehicle=25)\n",
    "capacity = 5\n",
    "result = car_instance.seating_capacity(capacity)\n",
    "print(result)\n"
   ]
  },
  {
   "cell_type": "code",
   "execution_count": 65,
   "id": "9f276ecd-8e41-4821-b919-d308e56c4a66",
   "metadata": {},
   "outputs": [
    {
     "data": {
      "text/plain": [
       "'Car has a seating capacity of 5 people.'"
      ]
     },
     "execution_count": 65,
     "metadata": {},
     "output_type": "execute_result"
    }
   ],
   "source": [
    "car_instance.seating_capacity(5)"
   ]
  },
  {
   "cell_type": "code",
   "execution_count": null,
   "id": "f7dd11b0-b300-4384-9289-7200001529a2",
   "metadata": {},
   "outputs": [],
   "source": []
  },
  {
   "cell_type": "code",
   "execution_count": null,
   "id": "1dd46246-bef3-4b13-a247-83543ece9ff4",
   "metadata": {},
   "outputs": [],
   "source": []
  },
  {
   "cell_type": "code",
   "execution_count": null,
   "id": "e23baa3d-4df3-48e7-9986-8d677c0b3f1d",
   "metadata": {},
   "outputs": [],
   "source": []
  },
  {
   "cell_type": "code",
   "execution_count": null,
   "id": "87c76417-54b1-401c-ace0-f7d10ddbb775",
   "metadata": {},
   "outputs": [],
   "source": []
  },
  {
   "cell_type": "code",
   "execution_count": null,
   "id": "6f913c8b-acfc-46e9-9131-b88290bdefee",
   "metadata": {},
   "outputs": [],
   "source": []
  },
  {
   "cell_type": "markdown",
   "id": "03b5e158-6993-44f4-bd38-a1fa53e6ef45",
   "metadata": {},
   "source": [
    "# Q3. What is multiple inheritance? Write a python code to demonstrate multiple inheritance.\n",
    "\n",
    "<!-- Multiple inheritance in object-oriented programming refers to the ability of a class to inherit attributes and methods from more than one parent class. In Python, a class can inherit from multiple classes by specifying them in the class definition. -->"
   ]
  },
  {
   "cell_type": "markdown",
   "id": "28106b9f-c86a-4895-9370-ab344aefb194",
   "metadata": {},
   "source": [
    "# Multiple inheritance in object-oriented programming refers to the ability of a class to inherit attributes and methods from more than one parent class. In Python, a class can inherit from multiple classes by specifying them in the class definition."
   ]
  },
  {
   "cell_type": "code",
   "execution_count": null,
   "id": "5be0a95a-6c45-4c77-ab7a-89415691d6f2",
   "metadata": {},
   "outputs": [],
   "source": []
  },
  {
   "cell_type": "markdown",
   "id": "d14096ca-c844-40a9-b144-f2a5ca544479",
   "metadata": {},
   "source": [
    "# Here's a simple example demonstrating multiple inheritance:"
   ]
  },
  {
   "cell_type": "code",
   "execution_count": 48,
   "id": "a255619d-217a-4afe-bbd4-fff3b2ddaecc",
   "metadata": {},
   "outputs": [],
   "source": [
    "class Engine:\n",
    "    def start(self):\n",
    "        print(\"Engine started\")\n",
    "\n",
    "    def stop(self):\n",
    "        print(\"Engine stopped\")\n",
    "\n",
    "\n",
    "class ElectricDevice:\n",
    "    def charge(self):\n",
    "        print(\"Device charging\")\n",
    "\n",
    "\n",
    "class HybridCar(Engine, ElectricDevice):\n",
    "    def drive(self):\n",
    "        print(\"Hybrid car is driving\")\n",
    "\n",
    "\n",
    "# Example usage:\n",
    "hybrid_car = HybridCar()\n",
    "\n"
   ]
  },
  {
   "cell_type": "code",
   "execution_count": 49,
   "id": "be305547-244a-4555-9304-5fa0c117e7f1",
   "metadata": {},
   "outputs": [
    {
     "name": "stdout",
     "output_type": "stream",
     "text": [
      "Device charging\n"
     ]
    }
   ],
   "source": [
    "hybrid_car.charge()"
   ]
  },
  {
   "cell_type": "code",
   "execution_count": null,
   "id": "94323608-3cf6-4e43-823d-9874025660b5",
   "metadata": {},
   "outputs": [],
   "source": []
  },
  {
   "cell_type": "markdown",
   "id": "7222008f-716d-4791-b4d4-a242a5aa84fd",
   "metadata": {},
   "source": [
    "# Q4. What are getter and setter in python? Create a class and create a getter and a setter method in this\n",
    "# class."
   ]
  },
  {
   "cell_type": "code",
   "execution_count": null,
   "id": "bbaf7870-4b1e-4d18-9e08-00b99c33f275",
   "metadata": {},
   "outputs": [],
   "source": [
    "In Python, getters and setters are methods used to access and modify the attributes of a class. They are often used to provide controlled access to the internal state of an object.\n",
    "\n",
    "Getter Method: A getter is a method that retrieves the value of an attribute.\n",
    "setter method : A setter is a method that set the value of an attribute."
   ]
  },
  {
   "cell_type": "markdown",
   "id": "5e6afeac-098b-46b6-a41b-2933e4ca91be",
   "metadata": {},
   "source": [
    "# example of getter and seeter method"
   ]
  },
  {
   "cell_type": "code",
   "execution_count": null,
   "id": "b6dbba65-e35d-48f6-85e3-ebc142b531b9",
   "metadata": {},
   "outputs": [],
   "source": []
  },
  {
   "cell_type": "code",
   "execution_count": 51,
   "id": "7dc1dda2-722f-499c-87e5-f561af3d9d8b",
   "metadata": {},
   "outputs": [
    {
     "name": "stdout",
     "output_type": "stream",
     "text": [
      "My attribute value: 42\n"
     ]
    }
   ],
   "source": [
    "class MyClass:\n",
    "    def __init__(self):\n",
    "        # Initialize a private attribute\n",
    "        self._my_attribute = None\n",
    "\n",
    "    # Getter method\n",
    "    def get_my_attribute(self):\n",
    "        return self._my_attribute\n",
    "\n",
    "    # Setter method\n",
    "    def set_my_attribute(self, value):\n",
    "        if isinstance(value, int):\n",
    "            self._my_attribute = value\n",
    "        else:\n",
    "            print(\"Invalid value. Please provide an integer.\")\n",
    "\n",
    "# Example usage:\n",
    "obj = MyClass()\n",
    "\n",
    "# Using the setter method\n",
    "obj.set_my_attribute(42)\n",
    "\n",
    "# Using the getter method\n",
    "value = obj.get_my_attribute()\n",
    "print(f\"My attribute value: {value}\")\n"
   ]
  },
  {
   "cell_type": "code",
   "execution_count": null,
   "id": "b46aef0c-ac12-4f9f-9eee-cb33ded60c31",
   "metadata": {},
   "outputs": [],
   "source": []
  },
  {
   "cell_type": "code",
   "execution_count": null,
   "id": "6556ce4f-5e0e-4ad6-93df-901a4f081b53",
   "metadata": {},
   "outputs": [],
   "source": []
  },
  {
   "cell_type": "markdown",
   "id": "e7ef5dc3-3f0f-4fa2-9a6c-fd543f195736",
   "metadata": {},
   "source": [
    "# Q5.What is method overriding in python? Write a python code to demonstrate method overriding."
   ]
  },
  {
   "cell_type": "markdown",
   "id": "bcd2c182-4ad3-487a-b783-6069269f62a4",
   "metadata": {},
   "source": [
    "# Method overriding in Python refers to the ability of a subclass to provide a specific implementation for a method that is already defined in its superclass. When a subclass provides its own implementation for a method that is already present in its superclass, it is said to override that method\n"
   ]
  },
  {
   "cell_type": "code",
   "execution_count": null,
   "id": "38d22296-b1f4-4de5-b82e-e59e62d2d787",
   "metadata": {},
   "outputs": [],
   "source": []
  },
  {
   "cell_type": "code",
   "execution_count": 61,
   "id": "77a3e66b-7f9c-4aff-a1ab-fcf1e98ba60c",
   "metadata": {},
   "outputs": [
    {
     "name": "stdout",
     "output_type": "stream",
     "text": [
      "Animal speaks\n",
      "Dog barks\n",
      "Cat meows\n"
     ]
    }
   ],
   "source": [
    "\n",
    "\n",
    "# Here's an example demonstrating method overriding:\n",
    "\n",
    "\n",
    "\n",
    "class Animal:\n",
    "    def speak(self):\n",
    "        print(\"Animal speaks\")\n",
    "\n",
    "class Dog(Animal):\n",
    "    # Overriding the speak method in the subclass\n",
    "    def speak(self):\n",
    "        print(\"Dog barks\")\n",
    "\n",
    "class Cat(Animal):\n",
    "    # Overriding the speak method in the subclass\n",
    "    def speak(self):\n",
    "        print(\"Cat meows\")\n",
    "\n",
    "# Example usage:\n",
    "animal = Animal()\n",
    "animal.speak()  # Output: Animal speaks\n",
    "\n",
    "dog = Dog()\n",
    "dog.speak()     # Output: Dog barks\n",
    "\n",
    "cat = Cat()\n",
    "cat.speak()     # Output: Cat meows\n",
    "\n",
    "\n"
   ]
  },
  {
   "cell_type": "code",
   "execution_count": null,
   "id": "4b1ca75f-17f4-426c-82de-e52cbfc21eb4",
   "metadata": {},
   "outputs": [],
   "source": []
  },
  {
   "cell_type": "code",
   "execution_count": null,
   "id": "62aa684f-3f5e-4820-9a0c-f1b2adf53488",
   "metadata": {},
   "outputs": [],
   "source": []
  }
 ],
 "metadata": {
  "kernelspec": {
   "display_name": "Python 3 (ipykernel)",
   "language": "python",
   "name": "python3"
  },
  "language_info": {
   "codemirror_mode": {
    "name": "ipython",
    "version": 3
   },
   "file_extension": ".py",
   "mimetype": "text/x-python",
   "name": "python",
   "nbconvert_exporter": "python",
   "pygments_lexer": "ipython3",
   "version": "3.10.6"
  }
 },
 "nbformat": 4,
 "nbformat_minor": 5
}
